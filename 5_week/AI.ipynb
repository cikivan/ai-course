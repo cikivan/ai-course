{
 "cells": [
  {
   "cell_type": "code",
   "execution_count": 23,
   "metadata": {},
   "outputs": [
    {
     "name": "stdout",
     "output_type": "stream",
     "text": [
      "import numpy as np <- fundemental package for scientific computing with python\n",
      "we\"re going to use it to create and manipulate with arrays\n",
      "Numpy: 1.19.5\n"
     ]
    }
   ],
   "source": [
    "import sys\n",
    "import numpy as np\n",
    "\n",
    "print('import numpy as np <- fundemental package for scientific computing with python')\n",
    "print('we\"re going to use it to create and manipulate with arrays')\n",
    "print('Numpy: {}'.format(np.__version__))"
   ]
  },
  {
   "cell_type": "code",
   "execution_count": 24,
   "metadata": {},
   "outputs": [
    {
     "name": "stdout",
     "output_type": "stream",
     "text": [
      "SCALARS\n",
      "Defining a scalar: x=6 and you can use print(x)\n",
      "6\n"
     ]
    }
   ],
   "source": [
    "### SCALARS \n",
    "x=6\n",
    "print('SCALARS')\n",
    "print('Defining a scalar: x=6 and you can use print(x)')\n",
    "print(x)"
   ]
  },
  {
   "cell_type": "code",
   "execution_count": 25,
   "metadata": {},
   "outputs": [
    {
     "name": "stdout",
     "output_type": "stream",
     "text": [
      "VECTORS\n",
      "Defining a one dimensional vector: x=np.array((1,2,3))\n",
      "Vector Dimensions: (3,)\n",
      "Vector size: 3\n",
      "[1 2 3]\n",
      "[1, 2, 3]\n"
     ]
    }
   ],
   "source": [
    "### VECTOR\n",
    "print('VECTORS')\n",
    "x=np.array((1,2,3))\t\t# CODE\n",
    "print('Defining a one dimensional vector: x=np.array((1,2,3))')\n",
    "dimensions=x.shape\t\t# CODE\n",
    "print('Vector Dimensions: {}'.format(x.shape))\n",
    "size=x.size\n",
    "print('Vector size: {}'.format(x.size))\n",
    "print(x)\n",
    "print([1, 2, 3])"
   ]
  },
  {
   "cell_type": "code",
   "execution_count": 26,
   "metadata": {},
   "outputs": [
    {
     "name": "stdout",
     "output_type": "stream",
     "text": [
      "The unit vector - vector with unit form\n",
      "A unit vector can be obtained by normalizing any vector\n",
      "Vector normalization is the process of dividing a vectorby its magnitude, which produces a unit vector\n",
      "vector x ->  [1, 1, 1, 1]\n",
      "example of normalization -> x/((1^2+1^2+1^2+1^2)^1/2)=x/(4^1/2)=1/2\n",
      "Unit vector->  [0.5, 0.5, 0.5, 0.5]\n",
      "normalization improve the perfomance of ML algorithms\n",
      "We use euclidian norm - > between (0,1)\n",
      "Normalization is used between the layers of the NN\n"
     ]
    }
   ],
   "source": [
    "print('The unit vector - vector with unit form')\n",
    "print('A unit vector can be obtained by normalizing any vector')\n",
    "print('Vector normalization is the process of dividing a vectorby its magnitude, which produces a unit vector')\n",
    "x=[1,1,1,1]\n",
    "print ('vector x -> ' , x)\n",
    "print('example of normalization -> x/((1^2+1^2+1^2+1^2)^1/2)=x/(4^1/2)=1/2')\n",
    "x=[1/2,1/2,1/2,1/2]\n",
    "print('Unit vector-> ' ,x)\n",
    "print('normalization improve the perfomance of ML algorithms')\n",
    "print('We use euclidian norm - > between (0,1)')\n",
    "print('Normalization is used between the layers of the NN')"
   ]
  },
  {
   "cell_type": "code",
   "execution_count": 27,
   "metadata": {},
   "outputs": [
    {
     "name": "stdout",
     "output_type": "stream",
     "text": [
      "MATRICES\n",
      "Defining a matrix X = np.matrix([[2,4,6],[3,5,7],[8,5,3]])\n",
      "[[2 4 6]\n",
      " [3 5 7]\n",
      " [8 5 3]]\n",
      "Matrix dimensions: (3, 3)\n",
      "Matrix size: 9\n"
     ]
    }
   ],
   "source": [
    "### MATRICE\n",
    "print('MATRICES')\n",
    "X = np.matrix([[2,4,6],[3,5,7],[8,5,3]])\n",
    "print('Defining a matrix X = np.matrix([[2,4,6],[3,5,7],[8,5,3]])')\n",
    "print(X)\n",
    "print('Matrix dimensions: {}'.format(X.shape))\n",
    "print('Matrix size: {}'.format(X.size))\n",
    "# again you can save these parameters like we did with vectors"
   ]
  },
  {
   "cell_type": "code",
   "execution_count": 28,
   "metadata": {},
   "outputs": [
    {
     "name": "stdout",
     "output_type": "stream",
     "text": [
      "MATRIX OPERATIONS\n",
      "Define a matrix Y = np.matrix([[10,11,12],[13,14,15],[16,17,18]]\n",
      "Matrices:\n",
      "[[2 4 6]\n",
      " [3 5 7]\n",
      " [8 5 3]] \n",
      "\n",
      " [[10 11 12]\n",
      " [13 14 15]\n",
      " [16 17 18]]\n",
      "Addition: X+Y\n",
      "[[12 15 18]\n",
      " [16 19 22]\n",
      " [24 22 21]]\n",
      "Addition: X-Y\n",
      "[[ -8  -7  -6]\n",
      " [-10  -9  -8]\n",
      " [ -8 -12 -15]]\n",
      "Addition: X*Y\n",
      "[[168 180 192]\n",
      " [207 222 237]\n",
      " [193 209 225]]\n",
      "Addition: X/Y\n",
      "[[0.2        0.36363636 0.5       ]\n",
      " [0.23076923 0.35714286 0.46666667]\n",
      " [0.5        0.29411765 0.16666667]]\n"
     ]
    }
   ],
   "source": [
    "print('MATRIX OPERATIONS')\n",
    "Y = np.matrix([[10,11,12],[13,14,15],[16,17,18]])\n",
    "print('Define a matrix Y = np.matrix([[10,11,12],[13,14,15],[16,17,18]]')\n",
    "print('Matrices:')\n",
    "print(X, '\\n''\\n', Y)\n",
    "print('Addition: X+Y')\n",
    "print(X+Y)\n",
    " \n",
    "print('Addition: X-Y')\n",
    "print(X-Y)\n",
    "\n",
    "print('Addition: X*Y')\n",
    "print(X*Y)\n",
    "\n",
    "print('Addition: X/Y')\n",
    "print(X/Y)"
   ]
  },
  {
   "cell_type": "code",
   "execution_count": 29,
   "metadata": {},
   "outputs": [
    {
     "name": "stdout",
     "output_type": "stream",
     "text": [
      "Matrix transponse\n",
      "A=np.array(range(9))\n",
      "[0 1 2 3 4 5 6 7 8]\n",
      "A=A.reshape(3,3)\n",
      "[[0 1 2]\n",
      " [3 4 5]\n",
      " [6 7 8]]\n",
      "B=A.T\n",
      "[[0 3 6]\n",
      " [1 4 7]\n",
      " [2 5 8]]\n",
      "transponse of transponse = ORIGINAL matrix\n"
     ]
    }
   ],
   "source": [
    "print('Matrix transponse')\n",
    "A=np.array(range(9))\n",
    "print('A=np.array(range(9))')\n",
    "print(A)\n",
    "print('A=A.reshape(3,3)')\n",
    "A=A.reshape(3,3)\n",
    "print(A)\n",
    "print('B=A.T')\n",
    "B=A.T\n",
    "print(B)\n",
    "print('transponse of transponse = ORIGINAL matrix')"
   ]
  },
  {
   "cell_type": "code",
   "execution_count": 30,
   "metadata": {},
   "outputs": [
    {
     "name": "stdout",
     "output_type": "stream",
     "text": [
      "Some matrices and vectors occure more commonly than others or are particulary useful in ML\n",
      "Diagonal Matrices - > Dij = 0 for all i!=j \n",
      "All the elements equals to 0 except allong the main diagonal\n",
      "[[1 0 0]\n",
      " [0 2 0]\n",
      " [0 0 3]]\n"
     ]
    }
   ],
   "source": [
    "print('Some matrices and vectors occure more commonly than others or are particulary useful in ML')\n",
    "print('Diagonal Matrices - > Dij = 0 for all i!=j ')\n",
    "print('All the elements equals to 0 except allong the main diagonal')\n",
    "A=np.matrix([[1,0,0],[0,2,0],[0,0,3]])\n",
    "print(A)"
   ]
  },
  {
   "cell_type": "code",
   "execution_count": 31,
   "metadata": {},
   "outputs": [
    {
     "name": "stdout",
     "output_type": "stream",
     "text": [
      "Symetric matrices - across the main diagonal\n",
      "A symmetric matrix is any matrix that is equal to its transpose\n",
      "[[1 2 3]\n",
      " [2 3 4]\n",
      " [3 4 5]]\n",
      "For example distance measurement matrix\n"
     ]
    }
   ],
   "source": [
    "print('Symetric matrices - across the main diagonal')\n",
    "print('A symmetric matrix is any matrix that is equal to its transpose')\n",
    "A=np.matrix([[1,2,3],[2,3,4],[3,4,5]])\n",
    "print(A)\n",
    "print('For example distance measurement matrix')"
   ]
  },
  {
   "cell_type": "code",
   "execution_count": 32,
   "metadata": {},
   "outputs": [
    {
     "name": "stdout",
     "output_type": "stream",
     "text": [
      "Calculate the determinant of matrix X // np.linalg.det(X) // : \n",
      "-2.000000000000001\n"
     ]
    }
   ],
   "source": [
    "print('Calculate the determinant of matrix X // np.linalg.det(X) // : ')\n",
    "print(np.linalg.det(X))"
   ]
  },
  {
   "cell_type": "code",
   "execution_count": 35,
   "metadata": {},
   "outputs": [
    {
     "name": "stdout",
     "output_type": "stream",
     "text": [
      "Defining a matrix of a given dimension\n",
      "x=np.ones(5,5) or zeros(3,3)\n",
      "[[1. 1. 1. 1. 1.]\n",
      " [1. 1. 1. 1. 1.]\n",
      " [1. 1. 1. 1. 1.]\n",
      " [1. 1. 1. 1. 1.]\n",
      " [1. 1. 1. 1. 1.]] \n",
      " \n",
      " [[0. 0. 0.]\n",
      " [0. 0. 0.]\n",
      " [0. 0. 0.]]\n"
     ]
    },
    {
     "data": {
      "text/plain": [
       "array([[0.8768323 , 0.97603423, 0.60523243],\n",
       "       [0.59970727, 0.22619036, 0.59359287],\n",
       "       [0.02742738, 0.81551558, 0.78558873]])"
      ]
     },
     "execution_count": 35,
     "metadata": {},
     "output_type": "execute_result"
    }
   ],
   "source": [
    "print('Defining a matrix of a given dimension')\n",
    "print('x=np.ones(5,5) or zeros(3,3)')\n",
    "x=np.ones((5,5))\n",
    "y=np.zeros((3,3))\n",
    "z=np.random.random((3, 3))\n",
    "print(x,'\\n', '\\n',y)\n",
    "z"
   ]
  },
  {
   "cell_type": "code",
   "execution_count": 36,
   "metadata": {},
   "outputs": [
    {
     "name": "stdout",
     "output_type": "stream",
     "text": [
      "TENSORS\n",
      "3 dimensional tensor x=np.ones((3,3,3))\n",
      "[[[1. 1. 1.]\n",
      "  [1. 1. 1.]\n",
      "  [1. 1. 1.]]\n",
      "\n",
      " [[1. 1. 1.]\n",
      "  [1. 1. 1.]\n",
      "  [1. 1. 1.]]\n",
      "\n",
      " [[1. 1. 1.]\n",
      "  [1. 1. 1.]\n",
      "  [1. 1. 1.]]]\n",
      "You can add 4-5-6... dimesional tensors\n",
      "It gets harder and harder to visualize (2-D screen)\n",
      "Tensor dimensions: (3, 3, 3)\n",
      "Tensor size: 27\n",
      "With adding dimensions -> we have exponential increase of number of parameters\n"
     ]
    }
   ],
   "source": [
    "print('TENSORS')\n",
    "x=np.ones((3,3,3))\n",
    "print('3 dimensional tensor x=np.ones((3,3,3))')\n",
    "print(x)\n",
    "print('You can add 4-5-6... dimesional tensors')\n",
    "print('It gets harder and harder to visualize (2-D screen)')\n",
    "print('Tensor dimensions: {}'.format(x.shape))\n",
    "print('Tensor size: {}'.format(x.size))\n",
    "# Again you can save this like x=x.size or x=x.shape\n",
    "print('With adding dimensions -> we have exponential increase of number of parameters')"
   ]
  },
  {
   "cell_type": "code",
   "execution_count": 40,
   "metadata": {},
   "outputs": [
    {
     "name": "stdout",
     "output_type": "stream",
     "text": [
      "A=np.ones((5,5), dtype=np.int)-> data type integers - default FLOAT\n",
      "[[1 1 1 1 1]\n",
      " [1 1 1 1 1]\n",
      " [1 1 1 1 1]\n",
      " [1 1 1 1 1]\n",
      " [1 1 1 1 1]]\n",
      "Idexing starts at 0 -> first element is A[0,0]\n",
      "print(A[:,0]) -> prints first column or you can assign values\n",
      "print(A[:,:])\n"
     ]
    },
    {
     "data": {
      "text/plain": [
       "array([1, 1, 1])"
      ]
     },
     "execution_count": 40,
     "metadata": {},
     "output_type": "execute_result"
    }
   ],
   "source": [
    "# INDEXING\n",
    "A=np.ones((5,5), dtype=np.int)\n",
    "print('A=np.ones((5,5), dtype=np.int)-> data type integers - default FLOAT')\n",
    "print(A)\n",
    "print('Idexing starts at 0 -> first element is A[0,0]')\n",
    "print('print(A[:,0]) -> prints first column or you can assign values')\n",
    "print('print(A[:,:])')\n",
    "A[::2, 2]"
   ]
  },
  {
   "cell_type": "code",
   "execution_count": 44,
   "metadata": {},
   "outputs": [
    {
     "name": "stdout",
     "output_type": "stream",
     "text": [
      "Higher dimension -> A=np.ones((5,5,5), dtype=np.int)\n",
      "Assig first row a new value -> A[:,0,0]=6\n",
      "[[[0.71665746 1.         1.         1.         1.        ]\n",
      "  [1.         1.         1.         1.         1.        ]\n",
      "  [1.         1.         1.         1.         1.        ]\n",
      "  [1.         1.         1.         1.         1.        ]\n",
      "  [1.         1.         1.         1.         1.        ]]\n",
      "\n",
      " [[0.32890103 1.         1.         1.         1.        ]\n",
      "  [1.         1.         1.         1.         1.        ]\n",
      "  [1.         1.         1.         1.         1.        ]\n",
      "  [1.         1.         1.         1.         1.        ]\n",
      "  [1.         1.         1.         1.         1.        ]]\n",
      "\n",
      " [[0.30905622 1.         1.         1.         1.        ]\n",
      "  [1.         1.         1.         1.         1.        ]\n",
      "  [1.         1.         1.         1.         1.        ]\n",
      "  [1.         1.         1.         1.         1.        ]\n",
      "  [1.         1.         1.         1.         1.        ]]\n",
      "\n",
      " [[0.03782191 1.         1.         1.         1.        ]\n",
      "  [1.         1.         1.         1.         1.        ]\n",
      "  [1.         1.         1.         1.         1.        ]\n",
      "  [1.         1.         1.         1.         1.        ]\n",
      "  [1.         1.         1.         1.         1.        ]]\n",
      "\n",
      " [[0.50442671 1.         1.         1.         1.        ]\n",
      "  [1.         1.         1.         1.         1.        ]\n",
      "  [1.         1.         1.         1.         1.        ]\n",
      "  [1.         1.         1.         1.         1.        ]\n",
      "  [1.         1.         1.         1.         1.        ]]]\n"
     ]
    }
   ],
   "source": [
    "print('Higher dimension -> A=np.ones((5,5,5), dtype=np.int)')\n",
    "A=np.ones((5,5,5))\n",
    "print('Assig first row a new value -> A[:,0,0]=6')\n",
    "A[:,0,0]=np.random.random(5)\n",
    "print(A)"
   ]
  },
  {
   "cell_type": "code",
   "execution_count": 45,
   "metadata": {},
   "outputs": [
    {
     "name": "stdout",
     "output_type": "stream",
     "text": [
      "A=np.ones((3,3,3,3,3,3,3,3,3,3)) - 10d tensor\n",
      "Again A.shape for printing dimensions -> 10\n",
      "A.size print number of elements - exponential growth -> 59049\n",
      "TENSORS- > AI\n"
     ]
    }
   ],
   "source": [
    "# tensors\n",
    "print('A=np.ones((3,3,3,3,3,3,3,3,3,3)) - 10d tensor')\n",
    "A=np.ones((3,3,3,3,3,3,3,3,3,3))\n",
    "\n",
    "print('Again A.shape for printing dimensions ->' ,len(A.shape))\n",
    "print('A.size print number of elements - exponential growth ->', A.size)\n",
    "print('TENSORS- > AI')"
   ]
  },
  {
   "cell_type": "code",
   "execution_count": 46,
   "metadata": {},
   "outputs": [
    {
     "name": "stdout",
     "output_type": "stream",
     "text": [
      "[[0.00000000e+00 0.00000000e+00 0.00000000e+00 ... 0.00000000e+00\n",
      "  0.00000000e+00 0.00000000e+00]\n",
      " [0.00000000e+00 1.03061015e-03 2.06122030e-03 ... 9.99691848e-02\n",
      "  1.00999795e-01 1.02030405e-01]\n",
      " [0.00000000e+00 4.12244061e-03 8.24488122e-03 ... 3.99876739e-01\n",
      "  4.03999180e-01 4.08121620e-01]\n",
      " ...\n",
      " [0.00000000e+00 9.69701092e+00 1.93940218e+01 ... 9.40610059e+02\n",
      "  9.50307070e+02 9.60004081e+02]\n",
      " [0.00000000e+00 9.89797990e+00 1.97959598e+01 ... 9.60104050e+02\n",
      "  9.70002030e+02 9.79900010e+02]\n",
      " [0.00000000e+00 1.01010101e+01 2.02020202e+01 ... 9.79797980e+02\n",
      "  9.89898990e+02 1.00000000e+03]]\n"
     ]
    }
   ],
   "source": [
    "import numpy as np\n",
    "nx, ny = (100, 100)\n",
    "\n",
    "# nx points in  0-10 range\n",
    "x = np.linspace(0, 10, nx)\n",
    "y = np.linspace(0, 10, ny)\n",
    "\n",
    "# combine\n",
    "xv, yv = np.meshgrid(x,y)\n",
    "\n",
    "\n",
    "# define function to plot\n",
    "def f(x,y):\n",
    "    return x * (y**2)\n",
    "\n",
    "z = f(xv, yv)\n",
    "print(z)"
   ]
  },
  {
   "cell_type": "code",
   "execution_count": 48,
   "metadata": {},
   "outputs": [],
   "source": [
    "# defining our function\n",
    "# The derivate is just how much the function is increasing or decreasing at a certain point\n",
    "def f(x):\n",
    "    return x**2\n",
    "\n",
    "def derivative(x):\n",
    "    # h is the change in x. It used to be called delta(x)\n",
    "    h = 1./1000.\n",
    "    rise = f(x + h)- f(x)\n",
    "    run = h\n",
    "    slope = rise / run\n",
    "    return slope"
   ]
  },
  {
   "cell_type": "code",
   "execution_count": 49,
   "metadata": {},
   "outputs": [
    {
     "name": "stdout",
     "output_type": "stream",
     "text": [
      "2.0009999999996975\n",
      "4.000999999999699\n",
      "6.000999999999479\n"
     ]
    }
   ],
   "source": [
    "print(derivative(1))\n",
    "print(derivative(2))\n",
    "print(derivative(3))"
   ]
  },
  {
   "cell_type": "code",
   "execution_count": 50,
   "metadata": {},
   "outputs": [],
   "source": [
    "# The definite integral is the area under a curve. \n",
    "# It is approximated by adding up a tons of rectangles/\n",
    "# Height of rectangle is f(x)\n",
    "# The more rectangles - > The better approximation\n",
    "def integral(startingx, endingx, numberofRectangles):\n",
    "    width = (float(endingx) - float(startingx))/numberofRectangles\n",
    "    # This will be the running sum of the areas\n",
    "    runningSum=0\n",
    "    for i in range(numberofRectangles):\n",
    "        # each rectangle is 1 width after the previous one\n",
    "        height = f(startingx + i*width)\n",
    "        area = height * width\n",
    "        # updating the running sum of the areas\n",
    "        runningSum += area\n",
    "    return runningSum"
   ]
  },
  {
   "cell_type": "code",
   "execution_count": 51,
   "metadata": {},
   "outputs": [
    {
     "data": {
      "text/plain": [
       "0.33332833334999745"
      ]
     },
     "execution_count": 51,
     "metadata": {},
     "output_type": "execute_result"
    }
   ],
   "source": [
    "integral(0,1,100000)"
   ]
  },
  {
   "cell_type": "code",
   "execution_count": null,
   "metadata": {},
   "outputs": [],
   "source": []
  }
 ],
 "metadata": {
  "kernelspec": {
   "display_name": "Python 3",
   "language": "python",
   "name": "python3"
  },
  "language_info": {
   "codemirror_mode": {
    "name": "ipython",
    "version": 3
   },
   "file_extension": ".py",
   "mimetype": "text/x-python",
   "name": "python",
   "nbconvert_exporter": "python",
   "pygments_lexer": "ipython3",
   "version": "3.6.8"
  }
 },
 "nbformat": 4,
 "nbformat_minor": 2
}
